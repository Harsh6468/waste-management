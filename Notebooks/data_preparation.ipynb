{
 "cells": [
  {
   "cell_type": "code",
   "execution_count": 1,
   "id": "b32385da",
   "metadata": {},
   "outputs": [],
   "source": [
    "import pandas as pd\n",
    "import numpy as np\n",
    "from category_encoders import TargetEncoder\n",
    "from sklearn.preprocessing import StandardScaler\n",
    "import joblib"
   ]
  },
  {
   "cell_type": "code",
   "execution_count": 2,
   "id": "68818e89",
   "metadata": {},
   "outputs": [],
   "source": [
    "# Paths\n",
    "RAW_DATA_PATH = \"../data/raw/waste_data.csv\"\n",
    "ENCODER_SAVE_PATH = \"../models/encoders.pkl\"\n",
    "CLEAN_DATA_PATH = \"../data/processed/clean_train.csv\"\n"
   ]
  },
  {
   "cell_type": "code",
   "execution_count": 3,
   "id": "02772ec8",
   "metadata": {},
   "outputs": [
    {
     "data": {
      "text/plain": [
       "(850, 13)"
      ]
     },
     "execution_count": 3,
     "metadata": {},
     "output_type": "execute_result"
    }
   ],
   "source": [
    "df = pd.read_csv(RAW_DATA_PATH)\n",
    "df.shape"
   ]
  },
  {
   "cell_type": "code",
   "execution_count": 4,
   "id": "ecab7c03",
   "metadata": {},
   "outputs": [
    {
     "data": {
      "text/html": [
       "<div>\n",
       "<style scoped>\n",
       "    .dataframe tbody tr th:only-of-type {\n",
       "        vertical-align: middle;\n",
       "    }\n",
       "\n",
       "    .dataframe tbody tr th {\n",
       "        vertical-align: top;\n",
       "    }\n",
       "\n",
       "    .dataframe thead th {\n",
       "        text-align: right;\n",
       "    }\n",
       "</style>\n",
       "<table border=\"1\" class=\"dataframe\">\n",
       "  <thead>\n",
       "    <tr style=\"text-align: right;\">\n",
       "      <th></th>\n",
       "      <th>City/District</th>\n",
       "      <th>Waste Type</th>\n",
       "      <th>Waste Generated (Tons/Day)</th>\n",
       "      <th>Recycling Rate (%)</th>\n",
       "      <th>Population Density (People/km²)</th>\n",
       "      <th>Municipal Efficiency Score (1-10)</th>\n",
       "      <th>Disposal Method</th>\n",
       "      <th>Cost of Waste Management (₹/Ton)</th>\n",
       "      <th>Awareness Campaigns Count</th>\n",
       "      <th>Landfill Name</th>\n",
       "      <th>Landfill Location (Lat, Long)</th>\n",
       "      <th>Landfill Capacity (Tons)</th>\n",
       "      <th>Year</th>\n",
       "    </tr>\n",
       "  </thead>\n",
       "  <tbody>\n",
       "    <tr>\n",
       "      <th>0</th>\n",
       "      <td>Mumbai</td>\n",
       "      <td>Plastic</td>\n",
       "      <td>6610</td>\n",
       "      <td>68</td>\n",
       "      <td>11191</td>\n",
       "      <td>9</td>\n",
       "      <td>Composting</td>\n",
       "      <td>3056</td>\n",
       "      <td>14</td>\n",
       "      <td>Mumbai Landfill</td>\n",
       "      <td>22.4265, 77.4931</td>\n",
       "      <td>45575</td>\n",
       "      <td>2019</td>\n",
       "    </tr>\n",
       "    <tr>\n",
       "      <th>1</th>\n",
       "      <td>Mumbai</td>\n",
       "      <td>Organic</td>\n",
       "      <td>1181</td>\n",
       "      <td>56</td>\n",
       "      <td>11191</td>\n",
       "      <td>5</td>\n",
       "      <td>Composting</td>\n",
       "      <td>2778</td>\n",
       "      <td>12</td>\n",
       "      <td>Mumbai Landfill</td>\n",
       "      <td>22.4265, 77.4931</td>\n",
       "      <td>45575</td>\n",
       "      <td>2019</td>\n",
       "    </tr>\n",
       "    <tr>\n",
       "      <th>2</th>\n",
       "      <td>Mumbai</td>\n",
       "      <td>E-Waste</td>\n",
       "      <td>8162</td>\n",
       "      <td>53</td>\n",
       "      <td>11191</td>\n",
       "      <td>8</td>\n",
       "      <td>Incineration</td>\n",
       "      <td>3390</td>\n",
       "      <td>13</td>\n",
       "      <td>Mumbai Landfill</td>\n",
       "      <td>22.4265, 77.4931</td>\n",
       "      <td>45575</td>\n",
       "      <td>2019</td>\n",
       "    </tr>\n",
       "    <tr>\n",
       "      <th>3</th>\n",
       "      <td>Mumbai</td>\n",
       "      <td>Construction</td>\n",
       "      <td>8929</td>\n",
       "      <td>56</td>\n",
       "      <td>11191</td>\n",
       "      <td>5</td>\n",
       "      <td>Landfill</td>\n",
       "      <td>1498</td>\n",
       "      <td>14</td>\n",
       "      <td>Mumbai Landfill</td>\n",
       "      <td>22.4265, 77.4931</td>\n",
       "      <td>45575</td>\n",
       "      <td>2019</td>\n",
       "    </tr>\n",
       "    <tr>\n",
       "      <th>4</th>\n",
       "      <td>Mumbai</td>\n",
       "      <td>Hazardous</td>\n",
       "      <td>5032</td>\n",
       "      <td>44</td>\n",
       "      <td>11191</td>\n",
       "      <td>7</td>\n",
       "      <td>Recycling</td>\n",
       "      <td>2221</td>\n",
       "      <td>16</td>\n",
       "      <td>Mumbai Landfill</td>\n",
       "      <td>22.4265, 77.4931</td>\n",
       "      <td>45575</td>\n",
       "      <td>2019</td>\n",
       "    </tr>\n",
       "  </tbody>\n",
       "</table>\n",
       "</div>"
      ],
      "text/plain": [
       "  City/District    Waste Type  Waste Generated (Tons/Day)  Recycling Rate (%)  \\\n",
       "0        Mumbai       Plastic                        6610                  68   \n",
       "1        Mumbai       Organic                        1181                  56   \n",
       "2        Mumbai       E-Waste                        8162                  53   \n",
       "3        Mumbai  Construction                        8929                  56   \n",
       "4        Mumbai     Hazardous                        5032                  44   \n",
       "\n",
       "   Population Density (People/km²)  Municipal Efficiency Score (1-10)  \\\n",
       "0                            11191                                  9   \n",
       "1                            11191                                  5   \n",
       "2                            11191                                  8   \n",
       "3                            11191                                  5   \n",
       "4                            11191                                  7   \n",
       "\n",
       "  Disposal Method  Cost of Waste Management (₹/Ton)  \\\n",
       "0      Composting                              3056   \n",
       "1      Composting                              2778   \n",
       "2    Incineration                              3390   \n",
       "3        Landfill                              1498   \n",
       "4       Recycling                              2221   \n",
       "\n",
       "   Awareness Campaigns Count    Landfill Name Landfill Location (Lat, Long)  \\\n",
       "0                         14  Mumbai Landfill              22.4265, 77.4931   \n",
       "1                         12  Mumbai Landfill              22.4265, 77.4931   \n",
       "2                         13  Mumbai Landfill              22.4265, 77.4931   \n",
       "3                         14  Mumbai Landfill              22.4265, 77.4931   \n",
       "4                         16  Mumbai Landfill              22.4265, 77.4931   \n",
       "\n",
       "   Landfill Capacity (Tons)  Year  \n",
       "0                     45575  2019  \n",
       "1                     45575  2019  \n",
       "2                     45575  2019  \n",
       "3                     45575  2019  \n",
       "4                     45575  2019  "
      ]
     },
     "execution_count": 4,
     "metadata": {},
     "output_type": "execute_result"
    }
   ],
   "source": [
    "df.head()"
   ]
  },
  {
   "cell_type": "code",
   "execution_count": 5,
   "id": "1d5952b2",
   "metadata": {},
   "outputs": [
    {
     "data": {
      "text/plain": [
       "(850, 13)"
      ]
     },
     "execution_count": 5,
     "metadata": {},
     "output_type": "execute_result"
    }
   ],
   "source": [
    "df.shape"
   ]
  },
  {
   "cell_type": "code",
   "execution_count": 6,
   "id": "36e0a3b0",
   "metadata": {},
   "outputs": [
    {
     "data": {
      "text/plain": [
       "City/District                        0\n",
       "Waste Type                           0\n",
       "Waste Generated (Tons/Day)           0\n",
       "Recycling Rate (%)                   0\n",
       "Population Density (People/km²)      0\n",
       "Municipal Efficiency Score (1-10)    0\n",
       "Disposal Method                      0\n",
       "Cost of Waste Management (₹/Ton)     0\n",
       "Awareness Campaigns Count            0\n",
       "Landfill Name                        0\n",
       "Landfill Location (Lat, Long)        0\n",
       "Landfill Capacity (Tons)             0\n",
       "Year                                 0\n",
       "dtype: int64"
      ]
     },
     "execution_count": 6,
     "metadata": {},
     "output_type": "execute_result"
    }
   ],
   "source": [
    "df.isnull().sum()"
   ]
  },
  {
   "cell_type": "code",
   "execution_count": 7,
   "id": "6429270a",
   "metadata": {},
   "outputs": [
    {
     "name": "stdout",
     "output_type": "stream",
     "text": [
      "<class 'pandas.core.frame.DataFrame'>\n",
      "RangeIndex: 850 entries, 0 to 849\n",
      "Data columns (total 13 columns):\n",
      " #   Column                             Non-Null Count  Dtype \n",
      "---  ------                             --------------  ----- \n",
      " 0   City/District                      850 non-null    object\n",
      " 1   Waste Type                         850 non-null    object\n",
      " 2   Waste Generated (Tons/Day)         850 non-null    int64 \n",
      " 3   Recycling Rate (%)                 850 non-null    int64 \n",
      " 4   Population Density (People/km²)    850 non-null    int64 \n",
      " 5   Municipal Efficiency Score (1-10)  850 non-null    int64 \n",
      " 6   Disposal Method                    850 non-null    object\n",
      " 7   Cost of Waste Management (₹/Ton)   850 non-null    int64 \n",
      " 8   Awareness Campaigns Count          850 non-null    int64 \n",
      " 9   Landfill Name                      850 non-null    object\n",
      " 10  Landfill Location (Lat, Long)      850 non-null    object\n",
      " 11  Landfill Capacity (Tons)           850 non-null    int64 \n",
      " 12  Year                               850 non-null    int64 \n",
      "dtypes: int64(8), object(5)\n",
      "memory usage: 86.5+ KB\n"
     ]
    }
   ],
   "source": [
    "df.info()"
   ]
  },
  {
   "cell_type": "code",
   "execution_count": 8,
   "id": "0b55d04d",
   "metadata": {},
   "outputs": [
    {
     "data": {
      "text/html": [
       "<div>\n",
       "<style scoped>\n",
       "    .dataframe tbody tr th:only-of-type {\n",
       "        vertical-align: middle;\n",
       "    }\n",
       "\n",
       "    .dataframe tbody tr th {\n",
       "        vertical-align: top;\n",
       "    }\n",
       "\n",
       "    .dataframe thead th {\n",
       "        text-align: right;\n",
       "    }\n",
       "</style>\n",
       "<table border=\"1\" class=\"dataframe\">\n",
       "  <thead>\n",
       "    <tr style=\"text-align: right;\">\n",
       "      <th></th>\n",
       "      <th>Waste Generated (Tons/Day)</th>\n",
       "      <th>Recycling Rate (%)</th>\n",
       "      <th>Population Density (People/km²)</th>\n",
       "      <th>Municipal Efficiency Score (1-10)</th>\n",
       "      <th>Cost of Waste Management (₹/Ton)</th>\n",
       "      <th>Awareness Campaigns Count</th>\n",
       "      <th>Landfill Capacity (Tons)</th>\n",
       "      <th>Year</th>\n",
       "    </tr>\n",
       "  </thead>\n",
       "  <tbody>\n",
       "    <tr>\n",
       "      <th>count</th>\n",
       "      <td>850.000000</td>\n",
       "      <td>850.000000</td>\n",
       "      <td>850.000000</td>\n",
       "      <td>850.000000</td>\n",
       "      <td>850.000000</td>\n",
       "      <td>850.000000</td>\n",
       "      <td>850.000000</td>\n",
       "      <td>850.000000</td>\n",
       "    </tr>\n",
       "    <tr>\n",
       "      <th>mean</th>\n",
       "      <td>5262.249412</td>\n",
       "      <td>57.076471</td>\n",
       "      <td>13489.705882</td>\n",
       "      <td>7.400000</td>\n",
       "      <td>2778.458824</td>\n",
       "      <td>9.904706</td>\n",
       "      <td>58934.617647</td>\n",
       "      <td>2021.000000</td>\n",
       "    </tr>\n",
       "    <tr>\n",
       "      <th>std</th>\n",
       "      <td>2786.984735</td>\n",
       "      <td>16.129994</td>\n",
       "      <td>6631.081494</td>\n",
       "      <td>1.722162</td>\n",
       "      <td>1276.325630</td>\n",
       "      <td>6.070772</td>\n",
       "      <td>19413.627292</td>\n",
       "      <td>1.415046</td>\n",
       "    </tr>\n",
       "    <tr>\n",
       "      <th>min</th>\n",
       "      <td>511.000000</td>\n",
       "      <td>30.000000</td>\n",
       "      <td>2335.000000</td>\n",
       "      <td>5.000000</td>\n",
       "      <td>503.000000</td>\n",
       "      <td>0.000000</td>\n",
       "      <td>22690.000000</td>\n",
       "      <td>2019.000000</td>\n",
       "    </tr>\n",
       "    <tr>\n",
       "      <th>25%</th>\n",
       "      <td>2865.750000</td>\n",
       "      <td>43.000000</td>\n",
       "      <td>7927.000000</td>\n",
       "      <td>6.000000</td>\n",
       "      <td>1647.500000</td>\n",
       "      <td>5.000000</td>\n",
       "      <td>45575.000000</td>\n",
       "      <td>2020.000000</td>\n",
       "    </tr>\n",
       "    <tr>\n",
       "      <th>50%</th>\n",
       "      <td>5283.000000</td>\n",
       "      <td>56.000000</td>\n",
       "      <td>12579.500000</td>\n",
       "      <td>7.000000</td>\n",
       "      <td>2853.000000</td>\n",
       "      <td>10.000000</td>\n",
       "      <td>61038.500000</td>\n",
       "      <td>2021.000000</td>\n",
       "    </tr>\n",
       "    <tr>\n",
       "      <th>75%</th>\n",
       "      <td>7757.250000</td>\n",
       "      <td>71.000000</td>\n",
       "      <td>19087.000000</td>\n",
       "      <td>9.000000</td>\n",
       "      <td>3855.000000</td>\n",
       "      <td>15.000000</td>\n",
       "      <td>71127.000000</td>\n",
       "      <td>2022.000000</td>\n",
       "    </tr>\n",
       "    <tr>\n",
       "      <th>max</th>\n",
       "      <td>9980.000000</td>\n",
       "      <td>85.000000</td>\n",
       "      <td>24032.000000</td>\n",
       "      <td>10.000000</td>\n",
       "      <td>4999.000000</td>\n",
       "      <td>20.000000</td>\n",
       "      <td>98646.000000</td>\n",
       "      <td>2023.000000</td>\n",
       "    </tr>\n",
       "  </tbody>\n",
       "</table>\n",
       "</div>"
      ],
      "text/plain": [
       "       Waste Generated (Tons/Day)  Recycling Rate (%)  \\\n",
       "count                  850.000000          850.000000   \n",
       "mean                  5262.249412           57.076471   \n",
       "std                   2786.984735           16.129994   \n",
       "min                    511.000000           30.000000   \n",
       "25%                   2865.750000           43.000000   \n",
       "50%                   5283.000000           56.000000   \n",
       "75%                   7757.250000           71.000000   \n",
       "max                   9980.000000           85.000000   \n",
       "\n",
       "       Population Density (People/km²)  Municipal Efficiency Score (1-10)  \\\n",
       "count                       850.000000                         850.000000   \n",
       "mean                      13489.705882                           7.400000   \n",
       "std                        6631.081494                           1.722162   \n",
       "min                        2335.000000                           5.000000   \n",
       "25%                        7927.000000                           6.000000   \n",
       "50%                       12579.500000                           7.000000   \n",
       "75%                       19087.000000                           9.000000   \n",
       "max                       24032.000000                          10.000000   \n",
       "\n",
       "       Cost of Waste Management (₹/Ton)  Awareness Campaigns Count  \\\n",
       "count                        850.000000                 850.000000   \n",
       "mean                        2778.458824                   9.904706   \n",
       "std                         1276.325630                   6.070772   \n",
       "min                          503.000000                   0.000000   \n",
       "25%                         1647.500000                   5.000000   \n",
       "50%                         2853.000000                  10.000000   \n",
       "75%                         3855.000000                  15.000000   \n",
       "max                         4999.000000                  20.000000   \n",
       "\n",
       "       Landfill Capacity (Tons)         Year  \n",
       "count                850.000000   850.000000  \n",
       "mean               58934.617647  2021.000000  \n",
       "std                19413.627292     1.415046  \n",
       "min                22690.000000  2019.000000  \n",
       "25%                45575.000000  2020.000000  \n",
       "50%                61038.500000  2021.000000  \n",
       "75%                71127.000000  2022.000000  \n",
       "max                98646.000000  2023.000000  "
      ]
     },
     "execution_count": 8,
     "metadata": {},
     "output_type": "execute_result"
    }
   ],
   "source": [
    "df.describe()"
   ]
  },
  {
   "cell_type": "code",
   "execution_count": 9,
   "id": "ba40c3dc",
   "metadata": {},
   "outputs": [],
   "source": [
    "# Drop unused columns\n",
    "df.drop(columns=['Landfill Name', 'Landfill Location (Lat, Long)'], inplace=True)"
   ]
  },
  {
   "cell_type": "code",
   "execution_count": 10,
   "id": "69f42dab",
   "metadata": {},
   "outputs": [
    {
     "data": {
      "text/plain": [
       "City/District                        object\n",
       "Waste Type                           object\n",
       "Waste Generated (Tons/Day)            int64\n",
       "Recycling Rate (%)                    int64\n",
       "Population Density (People/km²)       int64\n",
       "Municipal Efficiency Score (1-10)     int64\n",
       "Disposal Method                      object\n",
       "Cost of Waste Management (₹/Ton)      int64\n",
       "Awareness Campaigns Count             int64\n",
       "Landfill Capacity (Tons)              int64\n",
       "Year                                  int64\n",
       "dtype: object"
      ]
     },
     "execution_count": 10,
     "metadata": {},
     "output_type": "execute_result"
    }
   ],
   "source": [
    "df.dtypes"
   ]
  },
  {
   "cell_type": "code",
   "execution_count": 11,
   "id": "f4596c05",
   "metadata": {},
   "outputs": [
    {
     "data": {
      "text/plain": [
       "34"
      ]
     },
     "execution_count": 11,
     "metadata": {},
     "output_type": "execute_result"
    }
   ],
   "source": [
    "df[\"City/District\"].unique().size"
   ]
  },
  {
   "cell_type": "code",
   "execution_count": 12,
   "id": "f1bb8b83",
   "metadata": {},
   "outputs": [
    {
     "data": {
      "text/plain": [
       "5"
      ]
     },
     "execution_count": 12,
     "metadata": {},
     "output_type": "execute_result"
    }
   ],
   "source": [
    "df[\"Waste Type\"].unique().size"
   ]
  },
  {
   "cell_type": "code",
   "execution_count": 13,
   "id": "b3314df0",
   "metadata": {},
   "outputs": [
    {
     "data": {
      "text/plain": [
       "4"
      ]
     },
     "execution_count": 13,
     "metadata": {},
     "output_type": "execute_result"
    }
   ],
   "source": [
    "df[\"Disposal Method\"].unique().size"
   ]
  },
  {
   "cell_type": "code",
   "execution_count": 14,
   "id": "9739a847",
   "metadata": {},
   "outputs": [],
   "source": [
    "target = 'Recycling Rate (%)'\n",
    "categorical_low = ['Waste Type', 'Disposal Method']  # One-hot encoding\n",
    "categorical_high = ['City/District']  # Target encoding\n",
    "numerical_cols = [\n",
    "    'Waste Generated (Tons/Day)',\n",
    "    'Population Density (People/km²)',\n",
    "    'Municipal Efficiency Score (1-10)',\n",
    "    'Cost of Waste Management (₹/Ton)',\n",
    "    'Awareness Campaigns Count',\n",
    "    'Landfill Capacity (Tons)',\n",
    "    'Year'\n",
    "]"
   ]
  },
  {
   "cell_type": "code",
   "execution_count": 15,
   "id": "7d6481d7",
   "metadata": {},
   "outputs": [],
   "source": [
    "# Target Encoding for high-cardinality categorical features\n",
    "target_enc = TargetEncoder(cols=categorical_high)\n",
    "df[categorical_high] = target_enc.fit_transform(df[categorical_high], df[target])"
   ]
  },
  {
   "cell_type": "code",
   "execution_count": 16,
   "id": "88d47a70",
   "metadata": {},
   "outputs": [],
   "source": [
    "# One-Hot Encoding for low-cardinality categorical features\n",
    "df = pd.get_dummies(df, columns=categorical_low, drop_first=True)"
   ]
  },
  {
   "cell_type": "code",
   "execution_count": 17,
   "id": "56f17eb8",
   "metadata": {},
   "outputs": [],
   "source": [
    "# Standardize numerical features\n",
    "scaler = StandardScaler()\n",
    "df[numerical_cols] = scaler.fit_transform(df[numerical_cols])"
   ]
  },
  {
   "cell_type": "code",
   "execution_count": 18,
   "id": "914c1ce0",
   "metadata": {},
   "outputs": [
    {
     "data": {
      "text/plain": [
       "['City/District',\n",
       " 'Waste Generated (Tons/Day)',\n",
       " 'Population Density (People/km²)',\n",
       " 'Municipal Efficiency Score (1-10)',\n",
       " 'Cost of Waste Management (₹/Ton)',\n",
       " 'Awareness Campaigns Count',\n",
       " 'Landfill Capacity (Tons)',\n",
       " 'Year',\n",
       " 'Waste Type_E-Waste',\n",
       " 'Waste Type_Hazardous',\n",
       " 'Waste Type_Organic',\n",
       " 'Waste Type_Plastic',\n",
       " 'Disposal Method_Incineration',\n",
       " 'Disposal Method_Landfill',\n",
       " 'Disposal Method_Recycling']"
      ]
     },
     "execution_count": 18,
     "metadata": {},
     "output_type": "execute_result"
    }
   ],
   "source": [
    "final_columns = df.columns.to_list()\n",
    "final_columns.remove('Recycling Rate (%)')\n",
    "final_columns"
   ]
  },
  {
   "cell_type": "code",
   "execution_count": 19,
   "id": "facdd3a9",
   "metadata": {},
   "outputs": [
    {
     "data": {
      "text/plain": [
       "['../models/encoders.pkl']"
      ]
     },
     "execution_count": 19,
     "metadata": {},
     "output_type": "execute_result"
    }
   ],
   "source": [
    "# Save encoders for inference\n",
    "joblib.dump({'target_enc': target_enc, 'scaler': scaler, \"feature_names\": final_columns}, ENCODER_SAVE_PATH)"
   ]
  },
  {
   "cell_type": "code",
   "execution_count": 20,
   "id": "4822931b",
   "metadata": {},
   "outputs": [],
   "source": [
    "# Save cleaned dataset\n",
    "df.to_csv(CLEAN_DATA_PATH, index=False)"
   ]
  },
  {
   "cell_type": "code",
   "execution_count": 21,
   "id": "dde11b49",
   "metadata": {},
   "outputs": [
    {
     "data": {
      "text/plain": [
       "(850, 16)"
      ]
     },
     "execution_count": 21,
     "metadata": {},
     "output_type": "execute_result"
    }
   ],
   "source": [
    "df.shape"
   ]
  },
  {
   "cell_type": "code",
   "execution_count": 22,
   "id": "f0056c13",
   "metadata": {},
   "outputs": [
    {
     "data": {
      "text/html": [
       "<div>\n",
       "<style scoped>\n",
       "    .dataframe tbody tr th:only-of-type {\n",
       "        vertical-align: middle;\n",
       "    }\n",
       "\n",
       "    .dataframe tbody tr th {\n",
       "        vertical-align: top;\n",
       "    }\n",
       "\n",
       "    .dataframe thead th {\n",
       "        text-align: right;\n",
       "    }\n",
       "</style>\n",
       "<table border=\"1\" class=\"dataframe\">\n",
       "  <thead>\n",
       "    <tr style=\"text-align: right;\">\n",
       "      <th></th>\n",
       "      <th>City/District</th>\n",
       "      <th>Waste Generated (Tons/Day)</th>\n",
       "      <th>Recycling Rate (%)</th>\n",
       "      <th>Population Density (People/km²)</th>\n",
       "      <th>Municipal Efficiency Score (1-10)</th>\n",
       "      <th>Cost of Waste Management (₹/Ton)</th>\n",
       "      <th>Awareness Campaigns Count</th>\n",
       "      <th>Landfill Capacity (Tons)</th>\n",
       "      <th>Year</th>\n",
       "      <th>Waste Type_E-Waste</th>\n",
       "      <th>Waste Type_Hazardous</th>\n",
       "      <th>Waste Type_Organic</th>\n",
       "      <th>Waste Type_Plastic</th>\n",
       "      <th>Disposal Method_Incineration</th>\n",
       "      <th>Disposal Method_Landfill</th>\n",
       "      <th>Disposal Method_Recycling</th>\n",
       "    </tr>\n",
       "  </thead>\n",
       "  <tbody>\n",
       "    <tr>\n",
       "      <th>0</th>\n",
       "      <td>56.929277</td>\n",
       "      <td>0.483872</td>\n",
       "      <td>68</td>\n",
       "      <td>-0.34686</td>\n",
       "      <td>0.929612</td>\n",
       "      <td>0.217581</td>\n",
       "      <td>0.674989</td>\n",
       "      <td>-0.688562</td>\n",
       "      <td>-1.414214</td>\n",
       "      <td>False</td>\n",
       "      <td>False</td>\n",
       "      <td>False</td>\n",
       "      <td>True</td>\n",
       "      <td>False</td>\n",
       "      <td>False</td>\n",
       "      <td>False</td>\n",
       "    </tr>\n",
       "    <tr>\n",
       "      <th>1</th>\n",
       "      <td>56.929277</td>\n",
       "      <td>-1.465258</td>\n",
       "      <td>56</td>\n",
       "      <td>-0.34686</td>\n",
       "      <td>-1.394418</td>\n",
       "      <td>-0.000360</td>\n",
       "      <td>0.345348</td>\n",
       "      <td>-0.688562</td>\n",
       "      <td>-1.414214</td>\n",
       "      <td>False</td>\n",
       "      <td>False</td>\n",
       "      <td>True</td>\n",
       "      <td>False</td>\n",
       "      <td>False</td>\n",
       "      <td>False</td>\n",
       "      <td>False</td>\n",
       "    </tr>\n",
       "    <tr>\n",
       "      <th>2</th>\n",
       "      <td>56.929277</td>\n",
       "      <td>1.041074</td>\n",
       "      <td>53</td>\n",
       "      <td>-0.34686</td>\n",
       "      <td>0.348604</td>\n",
       "      <td>0.479424</td>\n",
       "      <td>0.510168</td>\n",
       "      <td>-0.688562</td>\n",
       "      <td>-1.414214</td>\n",
       "      <td>True</td>\n",
       "      <td>False</td>\n",
       "      <td>False</td>\n",
       "      <td>False</td>\n",
       "      <td>True</td>\n",
       "      <td>False</td>\n",
       "      <td>False</td>\n",
       "    </tr>\n",
       "    <tr>\n",
       "      <th>3</th>\n",
       "      <td>56.929277</td>\n",
       "      <td>1.316444</td>\n",
       "      <td>56</td>\n",
       "      <td>-0.34686</td>\n",
       "      <td>-1.394418</td>\n",
       "      <td>-1.003829</td>\n",
       "      <td>0.674989</td>\n",
       "      <td>-0.688562</td>\n",
       "      <td>-1.414214</td>\n",
       "      <td>False</td>\n",
       "      <td>False</td>\n",
       "      <td>False</td>\n",
       "      <td>False</td>\n",
       "      <td>False</td>\n",
       "      <td>True</td>\n",
       "      <td>False</td>\n",
       "    </tr>\n",
       "    <tr>\n",
       "      <th>4</th>\n",
       "      <td>56.929277</td>\n",
       "      <td>-0.082665</td>\n",
       "      <td>44</td>\n",
       "      <td>-0.34686</td>\n",
       "      <td>-0.232403</td>\n",
       "      <td>-0.437026</td>\n",
       "      <td>1.004630</td>\n",
       "      <td>-0.688562</td>\n",
       "      <td>-1.414214</td>\n",
       "      <td>False</td>\n",
       "      <td>True</td>\n",
       "      <td>False</td>\n",
       "      <td>False</td>\n",
       "      <td>False</td>\n",
       "      <td>False</td>\n",
       "      <td>True</td>\n",
       "    </tr>\n",
       "  </tbody>\n",
       "</table>\n",
       "</div>"
      ],
      "text/plain": [
       "   City/District  Waste Generated (Tons/Day)  Recycling Rate (%)  \\\n",
       "0      56.929277                    0.483872                  68   \n",
       "1      56.929277                   -1.465258                  56   \n",
       "2      56.929277                    1.041074                  53   \n",
       "3      56.929277                    1.316444                  56   \n",
       "4      56.929277                   -0.082665                  44   \n",
       "\n",
       "   Population Density (People/km²)  Municipal Efficiency Score (1-10)  \\\n",
       "0                         -0.34686                           0.929612   \n",
       "1                         -0.34686                          -1.394418   \n",
       "2                         -0.34686                           0.348604   \n",
       "3                         -0.34686                          -1.394418   \n",
       "4                         -0.34686                          -0.232403   \n",
       "\n",
       "   Cost of Waste Management (₹/Ton)  Awareness Campaigns Count  \\\n",
       "0                          0.217581                   0.674989   \n",
       "1                         -0.000360                   0.345348   \n",
       "2                          0.479424                   0.510168   \n",
       "3                         -1.003829                   0.674989   \n",
       "4                         -0.437026                   1.004630   \n",
       "\n",
       "   Landfill Capacity (Tons)      Year  Waste Type_E-Waste  \\\n",
       "0                 -0.688562 -1.414214               False   \n",
       "1                 -0.688562 -1.414214               False   \n",
       "2                 -0.688562 -1.414214                True   \n",
       "3                 -0.688562 -1.414214               False   \n",
       "4                 -0.688562 -1.414214               False   \n",
       "\n",
       "   Waste Type_Hazardous  Waste Type_Organic  Waste Type_Plastic  \\\n",
       "0                 False               False                True   \n",
       "1                 False                True               False   \n",
       "2                 False               False               False   \n",
       "3                 False               False               False   \n",
       "4                  True               False               False   \n",
       "\n",
       "   Disposal Method_Incineration  Disposal Method_Landfill  \\\n",
       "0                         False                     False   \n",
       "1                         False                     False   \n",
       "2                          True                     False   \n",
       "3                         False                      True   \n",
       "4                         False                     False   \n",
       "\n",
       "   Disposal Method_Recycling  \n",
       "0                      False  \n",
       "1                      False  \n",
       "2                      False  \n",
       "3                      False  \n",
       "4                       True  "
      ]
     },
     "execution_count": 22,
     "metadata": {},
     "output_type": "execute_result"
    }
   ],
   "source": [
    "df.head()"
   ]
  },
  {
   "cell_type": "code",
   "execution_count": null,
   "id": "9984237d",
   "metadata": {},
   "outputs": [],
   "source": []
  }
 ],
 "metadata": {
  "kernelspec": {
   "display_name": "venv",
   "language": "python",
   "name": "python3"
  },
  "language_info": {
   "codemirror_mode": {
    "name": "ipython",
    "version": 3
   },
   "file_extension": ".py",
   "mimetype": "text/x-python",
   "name": "python",
   "nbconvert_exporter": "python",
   "pygments_lexer": "ipython3",
   "version": "3.10.11"
  }
 },
 "nbformat": 4,
 "nbformat_minor": 5
}
